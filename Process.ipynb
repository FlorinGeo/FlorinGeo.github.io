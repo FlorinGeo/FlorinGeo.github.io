{
 "cells": [
  {
   "cell_type": "code",
   "execution_count": 1,
   "metadata": {},
   "outputs": [
    {
     "name": "stderr",
     "output_type": "stream",
     "text": [
      "<>:11: SyntaxWarning: invalid escape sequence '\\C'\n",
      "<>:11: SyntaxWarning: invalid escape sequence '\\C'\n",
      "C:\\Users\\Florin\\AppData\\Local\\Temp\\ipykernel_21024\\1264280095.py:11: SyntaxWarning: invalid escape sequence '\\C'\n",
      "  with open('data\\COUNT.js', 'w') as f:\n"
     ]
    }
   ],
   "source": [
    "import json\n",
    "\n",
    "# Read the geojson file\n",
    "with open('MPA.geojson') as f:\n",
    "    data = json.load(f)\n",
    "\n",
    "# Convert to JSON format\n",
    "json_data = json.dumps(data)\n",
    "\n",
    "# Save as a new file\n",
    "with open('data\\COUNT.js', 'w') as f:\n",
    "    f.write(json_data)"
   ]
  }
 ],
 "metadata": {
  "kernelspec": {
   "display_name": "gee",
   "language": "python",
   "name": "python3"
  },
  "language_info": {
   "codemirror_mode": {
    "name": "ipython",
    "version": 3
   },
   "file_extension": ".py",
   "mimetype": "text/x-python",
   "name": "python",
   "nbconvert_exporter": "python",
   "pygments_lexer": "ipython3",
   "version": "3.12.2"
  }
 },
 "nbformat": 4,
 "nbformat_minor": 2
}
